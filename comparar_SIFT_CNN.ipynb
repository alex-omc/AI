{
 "cells": [
  {
   "cell_type": "code",
   "execution_count": 1,
   "metadata": {},
   "outputs": [],
   "source": [
    "import cv2\n",
    "import numpy as np"
   ]
  },
  {
   "cell_type": "code",
   "execution_count": 2,
   "metadata": {},
   "outputs": [],
   "source": [
    "#importar las imágenes\n",
    "img1 = cv2.imread(\"deforestacion/imgs/1-1999.jpg\")\n",
    "img2 = cv2.imread(\"deforestacion/imgs/1-2016.jpg\")\n",
    "\n",
    "img3 = cv2.imread(\"deforestacion/imgs/1-1999.jpg\")\n",
    "img4 = cv2.imread(\"deforestacion/imgs/1-2016.jpg\")"
   ]
  },
  {
   "cell_type": "code",
   "execution_count": 3,
   "metadata": {},
   "outputs": [],
   "source": [
    "#Convertir la imagen a HSV:\n",
    "hsv1 = cv2.cvtColor(img1, cv2.COLOR_BGR2HSV)\n",
    "hsv2 = cv2.cvtColor(img2, cv2.COLOR_BGR2HSV)"
   ]
  },
  {
   "cell_type": "code",
   "execution_count": 4,
   "metadata": {},
   "outputs": [],
   "source": [
    "#Establecemos el rango mínimo y máximo de HSV:\n",
    "verde_bajos = np.array([35,0,0])\n",
    "verde_altos = np.array([85, 255, 255])"
   ]
  },
  {
   "cell_type": "code",
   "execution_count": 5,
   "metadata": {},
   "outputs": [],
   "source": [
    "#Detectamos los píxeles que estén dentro del rango \n",
    "#que hemos establecido:\n",
    "mask1 = cv2.inRange(hsv1, verde_bajos, verde_altos)\n",
    "mask2 = cv2.inRange(hsv2, verde_bajos, verde_altos)"
   ]
  },
  {
   "cell_type": "code",
   "execution_count": 6,
   "metadata": {},
   "outputs": [],
   "source": [
    "#Creamos un kernel:\n",
    "kernel1 = np.ones((6,6),np.uint8) #Matriz de 6x6 llena de '1'\n",
    "kernel2 = np.ones((6,6),np.uint8) #Matriz de 6x6 llena de '1'"
   ]
  },
  {
   "cell_type": "code",
   "execution_count": 7,
   "metadata": {},
   "outputs": [],
   "source": [
    "#Eliminamos el ruido con un CLOSE seguido de un OPEN:\n",
    "mask1 = cv2.morphologyEx(mask1, cv2.MORPH_CLOSE, kernel1)\n",
    "mask1 = cv2.morphologyEx(mask1, cv2.MORPH_OPEN, kernel1)\n",
    "\n",
    "mask2 = cv2.morphologyEx(mask2, cv2.MORPH_CLOSE, kernel2)\n",
    "mask2 = cv2.morphologyEx(mask2, cv2.MORPH_OPEN, kernel2)"
   ]
  },
  {
   "cell_type": "code",
   "execution_count": 8,
   "metadata": {},
   "outputs": [],
   "source": [
    "#cv2.imshow(\"mask 1\", cv2.resize(mask1, None, fx=0.5, fy=0.5))\n",
    "#cv2.imshow(\"maks 2\", cv2.resize(mask2, None, fx=0.5, fy=0.5))\n",
    "#cv2.imshow(\"mask 1\", cv2.resize(img3, None, fx=0.5, fy=0.5))\n",
    "#cv2.imshow(\"maks 2\", cv2.resize(img4, None, fx=0.5, fy=0.5))"
   ]
  },
  {
   "cell_type": "code",
   "execution_count": null,
   "metadata": {},
   "outputs": [],
   "source": []
  },
  {
   "cell_type": "code",
   "execution_count": 9,
   "metadata": {},
   "outputs": [],
   "source": [
    "sift = cv2.xfeatures2d.SIFT_create()\n",
    "kp_1, desc_1 = sift.detectAndCompute(mask1, None)\n",
    "kp_2, desc_2 = sift.detectAndCompute(mask2, None)\n",
    "#kp_1, desc_1 = sift.detectAndCompute(img3, None)\n",
    "#kp_2, desc_2 = sift.detectAndCompute(img4, None)"
   ]
  },
  {
   "cell_type": "code",
   "execution_count": 10,
   "metadata": {},
   "outputs": [
    {
     "name": "stdout",
     "output_type": "stream",
     "text": [
      "1ra imagen: 733\n",
      "2da imagen: 1674\n"
     ]
    }
   ],
   "source": [
    "print(\"1ra imagen: \" + str(len(kp_1)))\n",
    "print(\"2da imagen: \" + str(len(kp_2)))\n",
    "\n",
    "\n",
    "#Colores\n",
    "#4427\n",
    "#10706\n",
    "\n",
    "#Blanco y negro\n",
    "#733\n",
    "#1674"
   ]
  },
  {
   "cell_type": "code",
   "execution_count": 11,
   "metadata": {},
   "outputs": [],
   "source": [
    "index_params = dict(algorithm = 0, trees=5)\n",
    "search_params = dict()\n",
    "flann = cv2.FlannBasedMatcher(index_params, search_params)\n",
    "matches = flann.knnMatch(desc_1, desc_2, k=2)\n",
    "\n",
    "#Ac[a hay muchos falsos positivos]\n",
    "#print(len(matches))"
   ]
  },
  {
   "cell_type": "code",
   "execution_count": 12,
   "metadata": {},
   "outputs": [
    {
     "name": "stdout",
     "output_type": "stream",
     "text": [
      "Coincidencias: 49\n",
      " --> 6.68%\n"
     ]
    }
   ],
   "source": [
    "good_points = []\n",
    "for m, n in matches:\n",
    "    if m.distance < 0.6 * n.distance:\n",
    "        good_points.append(m)\n",
    "\n",
    "num_coin = len(good_points)\n",
    "por_coin = round(100 * num_coin / min(len(kp_1), len(kp_2)), 2)\n",
    "print(\"Coincidencias: \" + str(num_coin) + \n",
    "      \"\\n --> \" + str(por_coin) + \"%\")"
   ]
  },
  {
   "cell_type": "code",
   "execution_count": 13,
   "metadata": {},
   "outputs": [],
   "source": [
    "#cv2.imshow(\"original\", original)"
   ]
  },
  {
   "cell_type": "code",
   "execution_count": 14,
   "metadata": {},
   "outputs": [],
   "source": [
    "result = cv2.drawMatches(mask1, kp_1, mask2, kp_2, good_points, None)\n",
    "#result = cv2.drawMatches(img3, kp_1, img4, kp_2, good_points, None)\n",
    "cv2.imwrite(\"resultado.jpg\", result)\n",
    "cv2.imshow(\"result\", cv2.resize(result, None, fx=0.5, fy=0.5))\n",
    "cv2.waitKey(0)\n",
    "cv2.destroyAllWindows()"
   ]
  },
  {
   "cell_type": "code",
   "execution_count": null,
   "metadata": {},
   "outputs": [],
   "source": []
  }
 ],
 "metadata": {
  "kernelspec": {
   "display_name": "Python 3",
   "language": "python",
   "name": "python3"
  },
  "language_info": {
   "codemirror_mode": {
    "name": "ipython",
    "version": 3
   },
   "file_extension": ".py",
   "mimetype": "text/x-python",
   "name": "python",
   "nbconvert_exporter": "python",
   "pygments_lexer": "ipython3",
   "version": "3.8.5"
  }
 },
 "nbformat": 4,
 "nbformat_minor": 4
}
