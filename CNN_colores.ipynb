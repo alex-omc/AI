{
 "cells": [
  {
   "cell_type": "code",
   "execution_count": 1,
   "metadata": {},
   "outputs": [],
   "source": [
    "# -*- coding: latin-1 -*-\n",
    "\"\"\"\n",
    "EJEMPLO 3 - Eliminar el ruido\n",
    " \n",
    "Volvemos a detectar bolas amarillas, pero esta vez eliminamos el ruido de\n",
    "la máscara definiendo un kernel y aplicando un CLOSE+OPEN\n",
    " \n",
    "Escrito por Glare y Transductor\n",
    "www.robologs.net\n",
    "\"\"\"\n",
    "import cv2\n",
    "import numpy as np"
   ]
  },
  {
   "cell_type": "code",
   "execution_count": 2,
   "metadata": {},
   "outputs": [],
   "source": [
    "#Cargamos la imagen:\n",
    "img1 = cv2.imread(\"imgs/1-1999.jpg\")\n",
    "img2 = cv2.imread(\"imgs/1-2016.jpg\")"
   ]
  },
  {
   "cell_type": "code",
   "execution_count": 3,
   "metadata": {},
   "outputs": [],
   "source": [
    "#Convertimos la imagen a HSV:\n",
    "hsv1 = cv2.cvtColor(img1, cv2.COLOR_BGR2HSV)\n",
    "hsv2 = cv2.cvtColor(img2, cv2.COLOR_BGR2HSV)"
   ]
  },
  {
   "cell_type": "code",
   "execution_count": 4,
   "metadata": {},
   "outputs": [],
   "source": [
    "#Establecemos el rango mínimo y máximo de HSV:\n",
    "verde_bajos = np.array([35,0,0])\n",
    "verde_altos = np.array([85, 255, 255])"
   ]
  },
  {
   "cell_type": "code",
   "execution_count": 5,
   "metadata": {},
   "outputs": [],
   "source": [
    "#Detectamos los píxeles que estén dentro del rango que hemos establecido:\n",
    "mask1 = cv2.inRange(hsv1, verde_bajos, verde_altos)\n",
    "mask2 = cv2.inRange(hsv2, verde_bajos, verde_altos)"
   ]
  },
  {
   "cell_type": "code",
   "execution_count": 6,
   "metadata": {},
   "outputs": [],
   "source": [
    "#Creamos un kernel:\n",
    "kernel1 = np.ones((6,6),np.uint8) #Matriz de 6x6 llena de '1'\n",
    "kernel2 = np.ones((6,6),np.uint8) #Matriz de 6x6 llena de '1'"
   ]
  },
  {
   "cell_type": "code",
   "execution_count": 7,
   "metadata": {},
   "outputs": [],
   "source": [
    "#Eliminamos el ruido con un CLOSE seguido de un OPEN:\n",
    "mask1 = cv2.morphologyEx(mask1, cv2.MORPH_CLOSE, kernel1)\n",
    "mask1 = cv2.morphologyEx(mask1, cv2.MORPH_OPEN, kernel1)\n",
    "\n",
    "mask2 = cv2.morphologyEx(mask2, cv2.MORPH_CLOSE, kernel2)\n",
    "mask2 = cv2.morphologyEx(mask2, cv2.MORPH_OPEN, kernel2)"
   ]
  },
  {
   "cell_type": "code",
   "execution_count": 8,
   "metadata": {},
   "outputs": [],
   "source": [
    "#Comparar estas dos mascaras:\n",
    "mask_dif = cv2.subtract(mask1, mask2)"
   ]
  },
  {
   "cell_type": "code",
   "execution_count": 9,
   "metadata": {},
   "outputs": [],
   "source": [
    "#Eliminamos el ruido de esta nueva máscara:\n",
    "kernel = np.ones((6,6),np.uint8)\n",
    "mask_dif = cv2.morphologyEx(mask_dif, cv2.MORPH_CLOSE, kernel)\n",
    "mask_dif = cv2.morphologyEx(mask_dif, cv2.MORPH_OPEN, kernel)"
   ]
  },
  {
   "cell_type": "code",
   "execution_count": 10,
   "metadata": {},
   "outputs": [],
   "source": [
    "#Marcar Imagenes\n",
    "img1[mask_dif != 255] = [0, 0, 0]\n",
    "img2[mask_dif != 255] = [0, 0, 0]"
   ]
  },
  {
   "cell_type": "code",
   "execution_count": 11,
   "metadata": {},
   "outputs": [
    {
     "data": {
      "text/plain": [
       "True"
      ]
     },
     "execution_count": 11,
     "metadata": {},
     "output_type": "execute_result"
    }
   ],
   "source": [
    "cv2.imwrite('img1.jpg',img1)\n",
    "cv2.imwrite('img2.jpg',img2)"
   ]
  },
  {
   "cell_type": "code",
   "execution_count": 12,
   "metadata": {},
   "outputs": [],
   "source": [
    "#Mostramos la imagen original y la máscara:\n",
    "cv2.imshow(\"Imagen1\", cv2.resize(img1, None, fx=0.4, fy=0.4))\n",
    "cv2.imshow(\"Imagen2\", cv2.resize(img2, None, fx=0.4, fy=0.4))\n",
    "cv2.imshow(\"diferencia\", cv2.resize(mask_dif, None, fx=0.4, fy=0.4))"
   ]
  },
  {
   "cell_type": "code",
   "execution_count": 13,
   "metadata": {},
   "outputs": [
    {
     "name": "stdout",
     "output_type": "stream",
     "text": [
      "\n",
      "Pulsa cualquier tecla para cerrar las ventanas\n",
      "\n"
     ]
    }
   ],
   "source": [
    "print(\"\\nPulsa cualquier tecla para cerrar las ventanas\\n\")\n",
    "cv2.waitKey(0)\n",
    "cv2.destroyAllWindows()"
   ]
  }
 ],
 "metadata": {
  "kernelspec": {
   "display_name": "Python 3",
   "language": "python",
   "name": "python3"
  },
  "language_info": {
   "codemirror_mode": {
    "name": "ipython",
    "version": 3
   },
   "file_extension": ".py",
   "mimetype": "text/x-python",
   "name": "python",
   "nbconvert_exporter": "python",
   "pygments_lexer": "ipython3",
   "version": "3.8.5"
  }
 },
 "nbformat": 4,
 "nbformat_minor": 4
}
